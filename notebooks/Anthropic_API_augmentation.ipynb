{
 "cells": [
  {
   "cell_type": "code",
   "execution_count": 51,
   "metadata": {},
   "outputs": [],
   "source": [
    "import anthropic\n",
    "\n",
    "# load dotenv for the api_key\n",
    "import os\n",
    "from dotenv import load_dotenv\n",
    "load_dotenv()\n",
    "\n",
    "client = anthropic.Anthropic(\n",
    "    # defaults to os.environ.get(\"ANTHROPIC_API_KEY\")\n",
    "    api_key = os.getenv(\"ANTHROPIC_API_KEY\"),\n",
    ")\n",
    "\n",
    "\n",
    "import json\n",
    "\n",
    "def save_data(message, name_of_file='augmented_dark_pattern_claude.json'):\n",
    "    # Cargar los datos existentes\n",
    "    try:\n",
    "        with open(name_of_file, 'r') as f:\n",
    "            resultados = json.load(f)\n",
    "    except FileNotFoundError:\n",
    "        print(\"File not found\")\n",
    "        print(\"Creating a new file\")\n",
    "        resultados = []\n",
    "\n",
    "    # Agregar los nuevos datos\n",
    "    nuevos_datos = json.loads(message.json())\n",
    "    resultados.append(nuevos_datos)\n",
    "\n",
    "    # Guardar los datos actualizados\n",
    "    with open(name_of_file, 'w') as f:\n",
    "        json.dump(resultados, f)\n",
    "\n",
    "    print(f\"Data saved in {name_of_file}\")\n",
    "    print(\"The length of the dataset after appending the new message is: \", len(resultados))"
   ]
  },
  {
   "cell_type": "markdown",
   "metadata": {},
   "source": [
    "### Load original data"
   ]
  },
  {
   "cell_type": "markdown",
   "metadata": {},
   "source": [
    "#### API Call to Augmente Data"
   ]
  },
  {
   "cell_type": "code",
   "execution_count": 53,
   "metadata": {},
   "outputs": [
    {
     "name": "stdout",
     "output_type": "stream",
     "text": [
      "[ContentBlock(text='{\\n  \"Original Data\": \"To start your return, simply click on the following button and add your return details. Once the form is filled, you will receive an email with shipping instructions for how to ship the item(s) to our warehouse.\",\\n  \"Original Label\": 0,\\n  \"Augmented Variations\": [\\n    {\\n      \"Augmented Data\": \"Click the button below to initiate your return. After completing the form, you\\'ll get an email with instructions on how to send the item(s) to our warehouse.\",\\n      \"Label\": 0,\\n      \"Confidence\": 0.9\\n    },\\n    {\\n      \"Augmented Data\": \"To begin the return process, press the button and provide the necessary return details. An email with shipping guidelines will be sent once the form is submitted.\",\\n      \"Label\": 0,\\n      \"Confidence\": 0.8\\n    },\\n    {\\n      \"Augmented Data\": \"Attention shoppers! If you\\'re not satisfied with your purchase, simply click the button to start the return process. But be warned, the return window is only open for 7 days, so act fast!\",\\n      \"Label\": 1,\\n      \"Confidence\": 0.7\\n    }\\n  ]\\n}', type='text')]\n"
     ]
    }
   ],
   "source": [
    "\n",
    "message = client.messages.create(\n",
    "    model=\"claude-3-haiku-20240307\",\n",
    "    max_tokens=1000,\n",
    "    temperature=0,\n",
    "    system=\"Your role is to act as a data augmentation tool focused on generating data variations for dark patterns. Dark patterns are deceptive designs in user interfaces intended to make users behave in ways they do not intend.\\n\\nGiven the input data, generate three variations for data augmentation. Two variations should maintain the original label, while one should be altered significantly enough to belong to the opposite category. The categories for labeling are: 0 for 'Not Dark Pattern', and 1 for 'Dark Pattern'. Each variation should strive to maintain the core characteristics of the original input but alter aspects such as wording, structure, etc., to enhance model training diversity.\\n\\nAdditionally, for each augmented data, provide a 'Confidence' score between 0 and 1 that represents how well the new variations adhere to the assigned label and the quality of the variation.\\n\\nPlease return the output in the following JSON format:\\n\\n{\\n  \\\"Original Data\\\": \\\"[Original Text]\\\",\\n  \\\"Original Label\\\": \\\"[Appropriate Category]\\\",\\n  \\\"Augmented Variations\\\": [\\n    {\\n      \\\"Augmented Data\\\": \\\"[Variation 1]\\\",\\n      \\\"Label\\\": \\\"[Appropriate Category]\\\",\\n      \\\"Confidence\\\": \\\"[Confidence Score]\\\"\\n    },\\n    {\\n      \\\"Augmented Data\\\": \\\"[Variation 2]\\\",\\n      \\\"Label\\\": \\\"[Appropriate Category]\\\",\\n      \\\"Confidence\\\": \\\"[Confidence Score]\\\"\\n    },\\n    {\\n      \\\"Augmented Data\\\": \\\"[Variation 3]\\\",\\n      \\\"Label\\\": \\\"[Appropriate Category]\\\",\\n      \\\"Confidence\\\": \\\"[Confidence Score]\\\"\\n    }\\n  ]\\n}\\n\",\n",
    "    messages=[\n",
    "        {\n",
    "            \"role\": \"user\",\n",
    "            \"content\": [\n",
    "                {\n",
    "                    \"type\": \"text\",\n",
    "                    \"text\": \"Original Data: \\\"To start your return, simply click on the following button and add your return details. Once the form is filled, you will receive an email with shipping instructions for how to ship the item(s) to our warehouse.\\\"\\nOringinal Label: 0\"\n",
    "                }\n",
    "            ]\n",
    "        }\n",
    "    ]\n",
    ")\n",
    "print(message.content)\n",
    "\n",
    "# save_data(message)\n",
    "name_of_file='augmented_dark_pattern_claude.json'\n",
    "save_data(message, name_of_file)"
   ]
  },
  {
   "cell_type": "markdown",
   "metadata": {},
   "source": [
    "### Load the JSON augmented file"
   ]
  },
  {
   "cell_type": "code",
   "execution_count": 58,
   "metadata": {},
   "outputs": [],
   "source": [
    "# load the json file and print the content\n",
    "with open(name_of_file, 'r') as f:\n",
    "    augmented_data = json.load(f)"
   ]
  },
  {
   "cell_type": "code",
   "execution_count": 75,
   "metadata": {},
   "outputs": [
    {
     "data": {
      "text/plain": [
       "'0.95'"
      ]
     },
     "execution_count": 75,
     "metadata": {},
     "output_type": "execute_result"
    }
   ],
   "source": [
    "json.loads( augmented_data[0][\"content\"][0][\"text\"] )[\"Augmented Variations\"][0][\"Confidence\"]"
   ]
  },
  {
   "cell_type": "code",
   "execution_count": 95,
   "metadata": {},
   "outputs": [
    {
     "name": "stdout",
     "output_type": "stream",
     "text": [
      "confidence for message 0 using claude-3-opus-20240229 -> 0.9066666666666667 \n",
      "confidence for message 1 using claude-3-haiku-20240307 -> 0.8000000000000002 \n"
     ]
    }
   ],
   "source": [
    "import numpy as np\n",
    "results = {}\n",
    "for i, msg in enumerate(augmented_data):\n",
    "    model_used = msg[\"model\"]\n",
    "    content = msg['content'][0]\n",
    "    conf_values = []\n",
    "    for aug_var in json.loads(content[\"text\"] )[\"Augmented Variations\"]: \n",
    "        conf = aug_var[\"Confidence\"]\n",
    "        conf_values.append(conf)\n",
    "    conf_values = np.array(conf_values).astype(float)\n",
    "    print(f\"confidence for message {i} using {model_used} -> {np.mean(conf_values)} \")\n",
    "    results[i] = {\"model_used\": model_used, \"confidence\": conf_values }"
   ]
  },
  {
   "cell_type": "code",
   "execution_count": 91,
   "metadata": {},
   "outputs": [
    {
     "data": {
      "text/plain": [
       "{0: {'model_used': 'claude-3-opus-20240229',\n",
       "  'confidence': array([0.95, 0.92, 0.85])},\n",
       " 1: {'model_used': 'claude-3-haiku-20240307',\n",
       "  'confidence': array([0.9, 0.8, 0.7])}}"
      ]
     },
     "execution_count": 91,
     "metadata": {},
     "output_type": "execute_result"
    }
   ],
   "source": [
    "results"
   ]
  }
 ],
 "metadata": {
  "kernelspec": {
   "display_name": "my_shared_env",
   "language": "python",
   "name": "python3"
  },
  "language_info": {
   "codemirror_mode": {
    "name": "ipython",
    "version": 3
   },
   "file_extension": ".py",
   "mimetype": "text/x-python",
   "name": "python",
   "nbconvert_exporter": "python",
   "pygments_lexer": "ipython3",
   "version": "3.10.12"
  }
 },
 "nbformat": 4,
 "nbformat_minor": 2
}
