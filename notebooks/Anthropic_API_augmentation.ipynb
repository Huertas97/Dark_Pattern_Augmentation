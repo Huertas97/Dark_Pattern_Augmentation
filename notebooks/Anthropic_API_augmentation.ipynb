{
 "cells": [
  {
   "cell_type": "code",
   "execution_count": 22,
   "metadata": {},
   "outputs": [],
   "source": [
    "import anthropic\n",
    "\n",
    "# load dotenv for the api_key\n",
    "import os\n",
    "from dotenv import load_dotenv\n",
    "load_dotenv()\n",
    "\n",
    "client = anthropic.Anthropic(\n",
    "    # defaults to os.environ.get(\"ANTHROPIC_API_KEY\")\n",
    "    api_key = os.getenv(\"ANTHROPIC_API_KEY\"),\n",
    ")\n",
    "\n",
    "\n",
    "import json\n",
    "\n",
    "def save_data(message,  data, name_of_file='augmented_dark_pattern_claude.json'):\n",
    "    # Cargar los datos existentes\n",
    "    try:\n",
    "        with open(name_of_file, 'r') as f:\n",
    "            resultados = json.load(f)\n",
    "    except FileNotFoundError:\n",
    "        print(\"File not found\")\n",
    "        print(\"Creating a new file\")\n",
    "        resultados = []\n",
    "\n",
    "    # Agregar los nuevos datos\n",
    "    nuevos_datos = json.loads(message.json())\n",
    "    content_nuevos_datos = json.loads(nuevos_datos[\"content\"][0][\"text\"])\n",
    "    content_nuevos_datos[\"Original Data\"] = {\"Text\": data['text'], \"Original Label\": data['label']}\n",
    "    nuevos_datos[\"content\"][0][\"text\"] = content_nuevos_datos\n",
    "    resultados.append(nuevos_datos)\n",
    "\n",
    "    # Guardar los datos actualizados\n",
    "    with open(name_of_file, 'w') as f:\n",
    "        json.dump(resultados, f)\n",
    "\n",
    "    print(f\"Data saved in {name_of_file}\")\n",
    "    print(\"The length of the dataset after appending the new message is: \", len(resultados))"
   ]
  },
  {
   "cell_type": "markdown",
   "metadata": {},
   "source": [
    "### Load original data"
   ]
  },
  {
   "cell_type": "code",
   "execution_count": 42,
   "metadata": {},
   "outputs": [
    {
     "name": "stderr",
     "output_type": "stream",
     "text": [
      "/tmp/ipykernel_2721556/241192791.py:13: SettingWithCopyWarning: \n",
      "A value is trying to be set on a copy of a slice from a DataFrame\n",
      "\n",
      "See the caveats in the documentation: https://pandas.pydata.org/pandas-docs/stable/user_guide/indexing.html#returning-a-view-versus-a-copy\n",
      "  sample.rename(columns={\"category\": \"label\"}, inplace=True)\n"
     ]
    },
    {
     "data": {
      "text/plain": [
       "label\n",
       "CRITICAL      33\n",
       "CONSPIRACY    18\n",
       "dtype: int64"
      ]
     },
     "execution_count": 42,
     "metadata": {},
     "output_type": "execute_result"
    }
   ],
   "source": [
    "import pandas as pd\n",
    "from tqdm import tqdm\n",
    "import time\n",
    "\n",
    "df_original = pd.read_json(\"/home/AI_projects/PAN_24/PAN_24_Opposing/DATA/train/dataset_en_train.json\")\n",
    "\n",
    "# get a sample of the dataset\n",
    "sample = df_original.sample(1, random_state=12)\n",
    "sample = df_original.loc[50:100]\n",
    "\n",
    "\n",
    "# renme \"category\" to \"label\"\n",
    "sample.rename(columns={\"category\": \"label\"}, inplace=True)\n",
    "sample.value_counts(\"label\")\n",
    "        "
   ]
  },
  {
   "cell_type": "code",
   "execution_count": 12,
   "metadata": {},
   "outputs": [
    {
     "data": {
      "text/plain": [
       "(4000, 5)"
      ]
     },
     "execution_count": 12,
     "metadata": {},
     "output_type": "execute_result"
    }
   ],
   "source": [
    "df_original.shape"
   ]
  },
  {
   "cell_type": "code",
   "execution_count": 44,
   "metadata": {},
   "outputs": [
    {
     "name": "stderr",
     "output_type": "stream",
     "text": [
      "Sending data to the API: 0it [00:00, ?it/s]"
     ]
    },
    {
     "name": "stdout",
     "output_type": "stream",
     "text": [
      "Data saved in response_v3_PAN_EN_claude.json\n",
      "The length of the dataset after appending the new message is:  48\n",
      "Step:  0\n",
      "MCC: 0.2362820946305948\n",
      "F1 Score: 0.36580246086509904\n",
      "Accuracy: 0.45652173913043476\n"
     ]
    },
    {
     "name": "stderr",
     "output_type": "stream",
     "text": [
      "Waiting for 30 seconds: 100%|██████████| 30/30 [00:30<00:00,  1.00s/it]\n",
      "Sending data to the API: 1it [00:40, 40.71s/it]"
     ]
    },
    {
     "name": "stdout",
     "output_type": "stream",
     "text": [
      "Data saved in response_v3_PAN_EN_claude.json\n",
      "The length of the dataset after appending the new message is:  49\n"
     ]
    },
    {
     "name": "stderr",
     "output_type": "stream",
     "text": [
      "Waiting for 30 seconds: 100%|██████████| 30/30 [00:30<00:00,  1.00s/it]\n",
      "Sending data to the API: 2it [01:23, 42.21s/it]"
     ]
    },
    {
     "name": "stdout",
     "output_type": "stream",
     "text": [
      "Data saved in response_v3_PAN_EN_claude.json\n",
      "The length of the dataset after appending the new message is:  50\n"
     ]
    },
    {
     "name": "stderr",
     "output_type": "stream",
     "text": [
      "Waiting for 30 seconds: 100%|██████████| 30/30 [00:30<00:00,  1.00s/it]\n",
      "Sending data to the API: 3it [02:04, 41.42s/it]"
     ]
    },
    {
     "name": "stdout",
     "output_type": "stream",
     "text": [
      "Data saved in response_v3_PAN_EN_claude.json\n",
      "The length of the dataset after appending the new message is:  51\n"
     ]
    },
    {
     "name": "stderr",
     "output_type": "stream",
     "text": [
      "Waiting for 30 seconds: 100%|██████████| 30/30 [00:30<00:00,  1.00s/it]\n",
      "Sending data to the API: 4it [02:42, 40.25s/it]"
     ]
    },
    {
     "name": "stdout",
     "output_type": "stream",
     "text": [
      "Error saving the data:  Expecting value: line 1 column 1 (char 0)\n"
     ]
    },
    {
     "name": "stderr",
     "output_type": "stream",
     "text": [
      "Waiting for 30 seconds: 100%|██████████| 30/30 [00:30<00:00,  1.00s/it]\n",
      "Sending data to the API: 5it [03:29, 42.64s/it]"
     ]
    },
    {
     "name": "stdout",
     "output_type": "stream",
     "text": [
      "Data saved in response_v3_PAN_EN_claude.json\n",
      "The length of the dataset after appending the new message is:  52\n"
     ]
    },
    {
     "name": "stderr",
     "output_type": "stream",
     "text": [
      "Waiting for 30 seconds: 100%|██████████| 30/30 [00:30<00:00,  1.00s/it]\n",
      "Sending data to the API: 6it [04:09, 41.72s/it]"
     ]
    },
    {
     "name": "stdout",
     "output_type": "stream",
     "text": [
      "Error saving the data:  Expecting value: line 1 column 1 (char 0)\n"
     ]
    },
    {
     "name": "stderr",
     "output_type": "stream",
     "text": [
      "Waiting for 30 seconds: 100%|██████████| 30/30 [00:30<00:00,  1.00s/it]\n",
      "Sending data to the API: 7it [04:52, 42.01s/it]"
     ]
    },
    {
     "name": "stdout",
     "output_type": "stream",
     "text": [
      "Data saved in response_v3_PAN_EN_claude.json\n",
      "The length of the dataset after appending the new message is:  53\n"
     ]
    },
    {
     "name": "stderr",
     "output_type": "stream",
     "text": [
      "Waiting for 30 seconds: 100%|██████████| 30/30 [00:30<00:00,  1.00s/it]\n",
      "Sending data to the API: 8it [05:29, 40.42s/it]"
     ]
    },
    {
     "name": "stdout",
     "output_type": "stream",
     "text": [
      "Data saved in response_v3_PAN_EN_claude.json\n",
      "The length of the dataset after appending the new message is:  54\n"
     ]
    },
    {
     "name": "stderr",
     "output_type": "stream",
     "text": [
      "Waiting for 30 seconds: 100%|██████████| 30/30 [00:30<00:00,  1.00s/it]\n",
      "Sending data to the API: 9it [06:06, 39.53s/it]"
     ]
    },
    {
     "name": "stdout",
     "output_type": "stream",
     "text": [
      "Error saving the data:  Expecting value: line 1 column 1 (char 0)\n"
     ]
    },
    {
     "name": "stderr",
     "output_type": "stream",
     "text": [
      "Waiting for 30 seconds: 100%|██████████| 30/30 [00:30<00:00,  1.00s/it]\n",
      "Sending data to the API: 10it [06:57, 42.84s/it]"
     ]
    },
    {
     "name": "stdout",
     "output_type": "stream",
     "text": [
      "Data saved in response_v3_PAN_EN_claude.json\n",
      "The length of the dataset after appending the new message is:  55\n",
      "Step:  10\n",
      "MCC: 0.2362820946305948\n",
      "F1 Score: 0.36580246086509904\n",
      "Accuracy: 0.45652173913043476\n"
     ]
    },
    {
     "name": "stderr",
     "output_type": "stream",
     "text": [
      "Waiting for 30 seconds: 100%|██████████| 30/30 [00:30<00:00,  1.00s/it]\n",
      "Sending data to the API: 11it [07:35, 41.34s/it]"
     ]
    },
    {
     "name": "stdout",
     "output_type": "stream",
     "text": [
      "Data saved in response_v3_PAN_EN_claude.json\n",
      "The length of the dataset after appending the new message is:  56\n"
     ]
    },
    {
     "name": "stderr",
     "output_type": "stream",
     "text": [
      "Waiting for 30 seconds: 100%|██████████| 30/30 [00:30<00:00,  1.00s/it]\n",
      "Sending data to the API: 12it [08:13, 40.54s/it]"
     ]
    },
    {
     "name": "stdout",
     "output_type": "stream",
     "text": [
      "Data saved in response_v3_PAN_EN_claude.json\n",
      "The length of the dataset after appending the new message is:  57\n"
     ]
    },
    {
     "name": "stderr",
     "output_type": "stream",
     "text": [
      "Waiting for 30 seconds: 100%|██████████| 30/30 [00:30<00:00,  1.00s/it]\n",
      "Sending data to the API: 13it [08:49, 39.19s/it]"
     ]
    },
    {
     "name": "stdout",
     "output_type": "stream",
     "text": [
      "Data saved in response_v3_PAN_EN_claude.json\n",
      "The length of the dataset after appending the new message is:  58\n"
     ]
    },
    {
     "name": "stderr",
     "output_type": "stream",
     "text": [
      "Waiting for 30 seconds: 100%|██████████| 30/30 [00:30<00:00,  1.00s/it]\n",
      "Sending data to the API: 14it [09:27, 38.59s/it]"
     ]
    },
    {
     "name": "stdout",
     "output_type": "stream",
     "text": [
      "Data saved in response_v3_PAN_EN_claude.json\n",
      "The length of the dataset after appending the new message is:  59\n"
     ]
    },
    {
     "name": "stderr",
     "output_type": "stream",
     "text": [
      "Waiting for 30 seconds: 100%|██████████| 30/30 [00:30<00:00,  1.00s/it]\n",
      "Sending data to the API: 15it [10:04, 38.16s/it]"
     ]
    },
    {
     "name": "stdout",
     "output_type": "stream",
     "text": [
      "Data saved in response_v3_PAN_EN_claude.json\n",
      "The length of the dataset after appending the new message is:  60\n"
     ]
    },
    {
     "name": "stderr",
     "output_type": "stream",
     "text": [
      "Waiting for 30 seconds: 100%|██████████| 30/30 [00:30<00:00,  1.00s/it]\n",
      "Sending data to the API: 16it [10:40, 37.63s/it]"
     ]
    },
    {
     "name": "stdout",
     "output_type": "stream",
     "text": [
      "Data saved in response_v3_PAN_EN_claude.json\n",
      "The length of the dataset after appending the new message is:  61\n"
     ]
    },
    {
     "name": "stderr",
     "output_type": "stream",
     "text": [
      "Waiting for 30 seconds: 100%|██████████| 30/30 [00:30<00:00,  1.00s/it]\n",
      "Sending data to the API: 17it [11:19, 38.10s/it]"
     ]
    },
    {
     "name": "stdout",
     "output_type": "stream",
     "text": [
      "Error saving the data:  Expecting value: line 1 column 1 (char 0)\n"
     ]
    },
    {
     "name": "stderr",
     "output_type": "stream",
     "text": [
      "Waiting for 30 seconds: 100%|██████████| 30/30 [00:30<00:00,  1.00s/it]\n",
      "Sending data to the API: 18it [12:03, 39.91s/it]"
     ]
    },
    {
     "name": "stdout",
     "output_type": "stream",
     "text": [
      "Data saved in response_v3_PAN_EN_claude.json\n",
      "The length of the dataset after appending the new message is:  62\n"
     ]
    },
    {
     "name": "stderr",
     "output_type": "stream",
     "text": [
      "Waiting for 30 seconds: 100%|██████████| 30/30 [00:30<00:00,  1.00s/it]\n",
      "Sending data to the API: 19it [12:45, 40.50s/it]"
     ]
    },
    {
     "name": "stdout",
     "output_type": "stream",
     "text": [
      "Data saved in response_v3_PAN_EN_claude.json\n",
      "The length of the dataset after appending the new message is:  63\n"
     ]
    },
    {
     "name": "stderr",
     "output_type": "stream",
     "text": [
      "Waiting for 30 seconds: 100%|██████████| 30/30 [00:30<00:00,  1.00s/it]\n",
      "Sending data to the API: 20it [13:26, 40.59s/it]"
     ]
    },
    {
     "name": "stdout",
     "output_type": "stream",
     "text": [
      "Data saved in response_v3_PAN_EN_claude.json\n",
      "The length of the dataset after appending the new message is:  64\n",
      "Step:  20\n",
      "MCC: 0.2362820946305948\n",
      "F1 Score: 0.36580246086509904\n",
      "Accuracy: 0.45652173913043476\n"
     ]
    },
    {
     "name": "stderr",
     "output_type": "stream",
     "text": [
      "Waiting for 30 seconds: 100%|██████████| 30/30 [00:30<00:00,  1.00s/it]\n",
      "Sending data to the API: 21it [14:04, 39.71s/it]"
     ]
    },
    {
     "name": "stdout",
     "output_type": "stream",
     "text": [
      "Data saved in response_v3_PAN_EN_claude.json\n",
      "The length of the dataset after appending the new message is:  65\n"
     ]
    },
    {
     "name": "stderr",
     "output_type": "stream",
     "text": [
      "Waiting for 30 seconds: 100%|██████████| 30/30 [00:30<00:00,  1.00s/it]\n",
      "Sending data to the API: 22it [14:42, 39.19s/it]"
     ]
    },
    {
     "name": "stdout",
     "output_type": "stream",
     "text": [
      "Data saved in response_v3_PAN_EN_claude.json\n",
      "The length of the dataset after appending the new message is:  66\n"
     ]
    },
    {
     "name": "stderr",
     "output_type": "stream",
     "text": [
      "Waiting for 30 seconds: 100%|██████████| 30/30 [00:30<00:00,  1.00s/it]\n",
      "Sending data to the API: 23it [15:21, 39.15s/it]"
     ]
    },
    {
     "name": "stdout",
     "output_type": "stream",
     "text": [
      "Error saving the data:  Expecting value: line 1 column 1 (char 0)\n"
     ]
    },
    {
     "name": "stderr",
     "output_type": "stream",
     "text": [
      "Waiting for 30 seconds: 100%|██████████| 30/30 [00:30<00:00,  1.00s/it]\n",
      "Sending data to the API: 24it [16:07, 41.35s/it]"
     ]
    },
    {
     "name": "stdout",
     "output_type": "stream",
     "text": [
      "Data saved in response_v3_PAN_EN_claude.json\n",
      "The length of the dataset after appending the new message is:  67\n"
     ]
    },
    {
     "name": "stderr",
     "output_type": "stream",
     "text": [
      "Waiting for 30 seconds: 100%|██████████| 30/30 [00:30<00:00,  1.00s/it]\n",
      "Sending data to the API: 25it [16:46, 40.56s/it]"
     ]
    },
    {
     "name": "stdout",
     "output_type": "stream",
     "text": [
      "Error saving the data:  Expecting value: line 1 column 1 (char 0)\n"
     ]
    },
    {
     "name": "stderr",
     "output_type": "stream",
     "text": [
      "Waiting for 30 seconds: 100%|██████████| 30/30 [00:30<00:00,  1.00s/it]\n",
      "Sending data to the API: 26it [17:35, 43.20s/it]"
     ]
    },
    {
     "name": "stdout",
     "output_type": "stream",
     "text": [
      "Data saved in response_v3_PAN_EN_claude.json\n",
      "The length of the dataset after appending the new message is:  68\n"
     ]
    },
    {
     "name": "stderr",
     "output_type": "stream",
     "text": [
      "Waiting for 30 seconds: 100%|██████████| 30/30 [00:30<00:00,  1.00s/it]\n",
      "Sending data to the API: 27it [18:17, 42.74s/it]"
     ]
    },
    {
     "name": "stdout",
     "output_type": "stream",
     "text": [
      "Data saved in response_v3_PAN_EN_claude.json\n",
      "The length of the dataset after appending the new message is:  69\n"
     ]
    },
    {
     "name": "stderr",
     "output_type": "stream",
     "text": [
      "Waiting for 30 seconds:  40%|████      | 12/30 [00:12<00:18,  1.05s/it]\n",
      "Sending data to the API: 27it [18:37, 41.38s/it]\n"
     ]
    },
    {
     "ename": "KeyboardInterrupt",
     "evalue": "",
     "output_type": "error",
     "traceback": [
      "\u001b[0;31m---------------------------------------------------------------------------\u001b[0m",
      "\u001b[0;31mKeyboardInterrupt\u001b[0m                         Traceback (most recent call last)",
      "Cell \u001b[0;32mIn[44], line 144\u001b[0m\n\u001b[1;32m    141\u001b[0m     \u001b[38;5;28mprint\u001b[39m(\u001b[38;5;124mf\u001b[39m\u001b[38;5;124m\"\u001b[39m\u001b[38;5;124mAccuracy: \u001b[39m\u001b[38;5;132;01m{\u001b[39;00maccuracy\u001b[38;5;132;01m}\u001b[39;00m\u001b[38;5;124m\"\u001b[39m)\n\u001b[1;32m    143\u001b[0m \u001b[38;5;28;01mfor\u001b[39;00m i \u001b[38;5;129;01min\u001b[39;00m tqdm(\u001b[38;5;28mrange\u001b[39m(\u001b[38;5;241m30\u001b[39m), desc\u001b[38;5;241m=\u001b[39m\u001b[38;5;124m\"\u001b[39m\u001b[38;5;124mWaiting for 30 seconds\u001b[39m\u001b[38;5;124m\"\u001b[39m):\n\u001b[0;32m--> 144\u001b[0m     \u001b[43mtime\u001b[49m\u001b[38;5;241;43m.\u001b[39;49m\u001b[43msleep\u001b[49m\u001b[43m(\u001b[49m\u001b[38;5;241;43m1\u001b[39;49m\u001b[43m)\u001b[49m\n",
      "\u001b[0;31mKeyboardInterrupt\u001b[0m: "
     ]
    }
   ],
   "source": [
    "# prepare the data for the API\n",
    "for i, data in tqdm(enumerate(sample.to_dict(orient=\"records\")), desc=\"Sending data to the API\"):\n",
    "    messages = [\n",
    "        {\n",
    "            \"role\": \"user\",\n",
    "            \"content\": [\n",
    "                {\n",
    "                    \"type\": \"text\",\n",
    "                    \"text\": f\"Original Data: \\\"{data['text']}\\\"\\nOringinal Label: {data['label']}\",\n",
    "                }\n",
    "            ],\n",
    "        }\n",
    "    ]\n",
    "    message = client.messages.create(\n",
    "        model=\"claude-3-opus-20240229\",\n",
    "        max_tokens=1000,\n",
    "        temperature=0,\n",
    "        system = \"\"\" \n",
    "        Your role is to analyze text inputs to identify whether they represent critical commentary or conspiracy theories, each with distinct characteristics:\n",
    "\n",
    "Critical Commentary:\n",
    "\n",
    "Definition: Analyzes or evaluates topics, events, or works (like literature, politics, or social issues), expressing opinions based on informed judgment.\n",
    "Characteristics:\n",
    "Informed Opinion: Grounded in knowledge, research, and expertise, beyond personal feelings.\n",
    "Constructive: Aims to offer insightful perspectives or suggest improvements.\n",
    "Open to Debate: Invites discussion and welcomes counterarguments.\n",
    "Applicability: Applies even when the topic might be susceptible to conspiratorial interpretations.\n",
    "Conspiracy Theories:\n",
    "\n",
    "Definition: Beliefs attributing significant events or phenomena to secret, malevolent groups or organizations with hidden agendas.\n",
    "Characteristics:\n",
    "Lack of Evidence: Often speculative with minimal empirical support.\n",
    "Suspicion and Paranoia: Thrives on distrust of official narratives and institutions.\n",
    "Simplistic Explanations: Oversimplifies complexities by attributing them to the actions of a few.\n",
    "Resistance to Evidence: Dismisses contrary evidence as part of the cover-up.\n",
    "Task Requirements:\n",
    "\n",
    "Classify the narrative of the text as either 'CONSPIRACY' or 'CRITICAL'. Use the characteristics outlined to identify the narrative style accurately.\n",
    "Determine the main topics of the text in 2-3 words that capture the essence succinctly.\n",
    "Assign a Confidence Score from 0 to 1, indicating the certainty of your classification and alignment with the narrative characteristics.\n",
    "Provide a brief reason for your classification, summarizing why the text was categorized based on the given characteristics.\n",
    "\n",
    "{\n",
    "  \"Prediction\": \"CRITICAL\" or \"CONSPIRACY\",\n",
    "  \"Confidence\": [Confidence Score],\n",
    "  \"Topic\": [\"topic1\", \"topic2\", \"topic3\"],\n",
    "  \"Reason\": \"A concise explanation based on the characteristics of the predicted category.\"\n",
    "}        \n",
    "        \"\"\",\n",
    "        \n",
    "        \n",
    "#         \"\"\" \n",
    "#         Your role is to analyze text inputs to identify the underlying narrative style: critical thinking or conspiracy theories. Critical thinking involves questioning major decisions or events without attributing malevolent intent, whereas conspiracy theories often suggest covert, sinister actions by powerful entities. You are required to:\n",
    "\n",
    "# Classify the narrative of the text as either 'CONSPIRACY' or 'CRITICAL'. Consider typical language used in conspiracy theories, such as 'secret', 'hide', or 'manipulate', versus language associated with critical thinking, like 'analyze', 'question', or 'consider'.\n",
    "\n",
    "# Determine the main topics of the text in 2-3 words that encapsulate the subject matter succinctly.\n",
    "\n",
    "# Assign a Confidence Score on a scale from 0 to 1, representing the certainty of your classification and how definitively the text aligns with the identified narrative.\n",
    "\n",
    "# Provide a brief reason for your classification, summarizing why the text was categorized as either 'CRITICAL' or 'CONSPIRACY'.\n",
    "\n",
    "# The results should be json formatted as follows:\n",
    "# {\n",
    "#   \"Prediction\": \"CRITICAL\" or \"CONSPIRACY\",\n",
    "#   \"Confidence\": [Confidence Score],\n",
    "#   \"Topic\": [\"topic1\", \"topic2\", \"topic3\"],\n",
    "#   \"Reason\": \"A concise explanation of the rationale behind the prediction.\"\n",
    "# }\n",
    "#         \"\"\",\n",
    "\n",
    "\n",
    "#         system=\"\"\"\n",
    "# Your role is to analyze text input to differentiate between oppositional narratives: one being critical thinking and the other conspiracy theories. Critical thinking questions major decisions or events without necessarily imputing sinister motives, while conspiracy theories typically suggest covert and malevolent actions by powerful entities controlling or manipulating these events.\n",
    "\n",
    "# For each text input, you are required to:\n",
    "\n",
    "# Classify the narrative as either 'CONSPIRACY' or 'CRITICAL'. Each classification should consider the presence of typical conspiracy language like 'secret,' 'hide,' or 'manipulate' versus critical thinking which might include terms like 'analyze,' 'question,' or 'consider'.\n",
    "\n",
    "# Generate three variations of the given text:\n",
    "\n",
    "# Two variations should enhance the input's narrative style while maintaining the original label, focusing on subtler or more explicit language depending on the category.\n",
    "# One variation should alter the text significantly to convert it into the opposite category. This should be achieved by changing the underlying assumptions or by introducing or removing claims of malign intent.\n",
    "# Assign a Confidence Score for each variation on a scale from 0 to 1, indicating how effectively the variation aligns with its intended category and the quality of the alteration. Be critic and self-aware of the certainty of confidence of the quality, considering how similar in semantics and the topic and entialment alignment with the original label.\n",
    "\n",
    "# The results should be formatted as follows:\n",
    "\n",
    "# {\n",
    "#   \"Augmented Variations\": [\n",
    "#     {\n",
    "#       \"Text\": \"[Variation 1]\",\n",
    "#       \"Label\": \"[CONSPIRACY or CRITICAL]\",\n",
    "#       \"Confidence\": \"[Confidence Score]\",\n",
    "#     },\n",
    "#     {\n",
    "#       \"Text\": \"[Variation 2]\",\n",
    "#       \"Label\": \"[CONSPIRACY or CRITICAL]\",\n",
    "#       \"Confidence\": \"[Confidence Score]\"\n",
    "#     },\n",
    "#     {\n",
    "#       \"Text\": \"[Variation 3]\",\n",
    "#       \"Label\": \"[OPPOSITE LABEL]\",\n",
    "#       \"Confidence\": \"[Confidence Score]\"\n",
    "#     }\n",
    "#   ]\n",
    "# }\n",
    "# \"\"\",\n",
    "        messages=messages,\n",
    "    )\n",
    "\n",
    "\n",
    "    # save the data\n",
    "    name_of_file = \"response_v3_PAN_EN_claude.json\"\n",
    "    try:\n",
    "      save_data(message, data, name_of_file )\n",
    "    except Exception as e:\n",
    "      print(\"Error saving the data: \", e)\n",
    "    # Esperar 30 segundos con la barra de progreso de tqdm\n",
    "\n",
    "    if i % 10 == 0:\n",
    "        preds = []\n",
    "        y_true = []\n",
    "        for instance in augmented_data:\n",
    "            preds.append( instance[\"content\"][0][\"text\"][\"Prediction\"] )\n",
    "            y_true.append( instance[\"content\"][0][\"text\"][\"Original Data\"][\"Original Label\"] )\n",
    "        preds = np.array(preds)\n",
    "        y_true = np.array(y_true)\n",
    "\n",
    "        # Calcular MCC\n",
    "        mcc = matthews_corrcoef(y_true, preds)\n",
    "        print(\"Step: \", i)\n",
    "        print(f\"MCC: {mcc}\")\n",
    "\n",
    "        # Calcular F1\n",
    "        f1 = f1_score(y_true, preds, average='weighted')\n",
    "        print(f\"F1 Score: {f1}\")\n",
    "\n",
    "        # Calcular precisión\n",
    "        accuracy = accuracy_score(y_true, preds)\n",
    "        print(f\"Accuracy: {accuracy}\")\n",
    "\n",
    "    for i in tqdm(range(30), desc=\"Waiting for 30 seconds\"):\n",
    "        time.sleep(1)"
   ]
  },
  {
   "cell_type": "markdown",
   "metadata": {},
   "source": [
    "#### API Call to Augmente Data"
   ]
  },
  {
   "cell_type": "code",
   "execution_count": 53,
   "metadata": {},
   "outputs": [
    {
     "name": "stdout",
     "output_type": "stream",
     "text": [
      "[ContentBlock(text='{\\n  \"Original Data\": \"To start your return, simply click on the following button and add your return details. Once the form is filled, you will receive an email with shipping instructions for how to ship the item(s) to our warehouse.\",\\n  \"Original Label\": 0,\\n  \"Augmented Variations\": [\\n    {\\n      \"Augmented Data\": \"Click the button below to initiate your return. After completing the form, you\\'ll get an email with instructions on how to send the item(s) to our warehouse.\",\\n      \"Label\": 0,\\n      \"Confidence\": 0.9\\n    },\\n    {\\n      \"Augmented Data\": \"To begin the return process, press the button and provide the necessary return details. An email with shipping guidelines will be sent once the form is submitted.\",\\n      \"Label\": 0,\\n      \"Confidence\": 0.8\\n    },\\n    {\\n      \"Augmented Data\": \"Attention shoppers! If you\\'re not satisfied with your purchase, simply click the button to start the return process. But be warned, the return window is only open for 7 days, so act fast!\",\\n      \"Label\": 1,\\n      \"Confidence\": 0.7\\n    }\\n  ]\\n}', type='text')]\n"
     ]
    }
   ],
   "source": [
    "\n",
    "message = client.messages.create(\n",
    "    model=\"claude-3-haiku-20240307\",\n",
    "    max_tokens=1000,\n",
    "    temperature=0,\n",
    "    system=\"Your role is to act as a data augmentation tool focused on generating data variations for dark patterns. Dark patterns are deceptive designs in user interfaces intended to make users behave in ways they do not intend.\\n\\nGiven the input data, generate three variations for data augmentation. Two variations should maintain the original label, while one should be altered significantly enough to belong to the opposite category. The categories for labeling are: 0 for 'Not Dark Pattern', and 1 for 'Dark Pattern'. Each variation should strive to maintain the core characteristics of the original input but alter aspects such as wording, structure, etc., to enhance model training diversity.\\n\\nAdditionally, for each augmented data, provide a 'Confidence' score between 0 and 1 that represents how well the new variations adhere to the assigned label and the quality of the variation.\\n\\nPlease return the output in the following JSON format:\\n\\n{\\n  \\\"Original Data\\\": \\\"[Original Text]\\\",\\n  \\\"Original Label\\\": \\\"[Appropriate Category]\\\",\\n  \\\"Augmented Variations\\\": [\\n    {\\n      \\\"Augmented Data\\\": \\\"[Variation 1]\\\",\\n      \\\"Label\\\": \\\"[Appropriate Category]\\\",\\n      \\\"Confidence\\\": \\\"[Confidence Score]\\\"\\n    },\\n    {\\n      \\\"Augmented Data\\\": \\\"[Variation 2]\\\",\\n      \\\"Label\\\": \\\"[Appropriate Category]\\\",\\n      \\\"Confidence\\\": \\\"[Confidence Score]\\\"\\n    },\\n    {\\n      \\\"Augmented Data\\\": \\\"[Variation 3]\\\",\\n      \\\"Label\\\": \\\"[Appropriate Category]\\\",\\n      \\\"Confidence\\\": \\\"[Confidence Score]\\\"\\n    }\\n  ]\\n}\\n\",\n",
    "    messages=[\n",
    "        {\n",
    "            \"role\": \"user\",\n",
    "            \"content\": [\n",
    "                {\n",
    "                    \"type\": \"text\",\n",
    "                    \"text\": \"Original Data: \\\"To start your return, simply click on the following button and add your return details. Once the form is filled, you will receive an email with shipping instructions for how to ship the item(s) to our warehouse.\\\"\\nOringinal Label: 0\"\n",
    "                }\n",
    "            ]\n",
    "        }\n",
    "    ]\n",
    ")\n",
    "print(message.content)\n",
    "\n",
    "# save_data(message)\n",
    "name_of_file='augmented_dark_pattern_claude.json'\n",
    "save_data(message, name_of_file)"
   ]
  },
  {
   "cell_type": "markdown",
   "metadata": {},
   "source": [
    "### Load the JSON augmented file"
   ]
  },
  {
   "cell_type": "code",
   "execution_count": 45,
   "metadata": {},
   "outputs": [],
   "source": [
    "# load the json file and print the content\n",
    "with open(name_of_file, 'r') as f:\n",
    "    augmented_data = json.load(f)"
   ]
  },
  {
   "cell_type": "code",
   "execution_count": 50,
   "metadata": {},
   "outputs": [
    {
     "name": "stdout",
     "output_type": "stream",
     "text": [
      "PREDICT ->  CONSPIRACY\n",
      "REAL ->  CONSPIRACY\n",
      "\n",
      "PREDICT ->  CONSPIRACY\n",
      "REAL ->  CRITICAL\n",
      "\n",
      "PREDICT ->  CONSPIRACY\n",
      "REAL ->  CRITICAL\n",
      "\n",
      "PREDICT ->  CONSPIRACY\n",
      "REAL ->  CRITICAL\n",
      "\n",
      "PREDICT ->  CONSPIRACY\n",
      "REAL ->  CRITICAL\n",
      "\n",
      "PREDICT ->  CONSPIRACY\n",
      "REAL ->  CRITICAL\n",
      "\n",
      "PREDICT ->  CONSPIRACY\n",
      "REAL ->  CONSPIRACY\n",
      "\n",
      "PREDICT ->  CONSPIRACY\n",
      "REAL ->  CRITICAL\n",
      "\n",
      "PREDICT ->  CONSPIRACY\n",
      "REAL ->  CRITICAL\n",
      "\n",
      "PREDICT ->  CONSPIRACY\n",
      "REAL ->  CRITICAL\n",
      "\n",
      "PREDICT ->  CONSPIRACY\n",
      "REAL ->  CONSPIRACY\n",
      "\n",
      "PREDICT ->  CONSPIRACY\n",
      "REAL ->  CONSPIRACY\n",
      "\n",
      "PREDICT ->  CONSPIRACY\n",
      "REAL ->  CONSPIRACY\n",
      "\n",
      "PREDICT ->  CONSPIRACY\n",
      "REAL ->  CRITICAL\n",
      "\n",
      "PREDICT ->  CONSPIRACY\n",
      "REAL ->  CONSPIRACY\n",
      "\n",
      "PREDICT ->  CONSPIRACY\n",
      "REAL ->  CRITICAL\n",
      "\n",
      "PREDICT ->  CONSPIRACY\n",
      "REAL ->  CONSPIRACY\n",
      "\n",
      "PREDICT ->  CONSPIRACY\n",
      "REAL ->  CRITICAL\n",
      "\n",
      "PREDICT ->  CONSPIRACY\n",
      "REAL ->  CONSPIRACY\n",
      "\n",
      "PREDICT ->  CRITICAL\n",
      "REAL ->  CRITICAL\n",
      "\n",
      "PREDICT ->  CONSPIRACY\n",
      "REAL ->  CONSPIRACY\n",
      "\n",
      "PREDICT ->  CRITICAL\n",
      "REAL ->  CRITICAL\n",
      "\n",
      "PREDICT ->  CONSPIRACY\n",
      "REAL ->  CONSPIRACY\n",
      "\n",
      "PREDICT ->  CONSPIRACY\n",
      "REAL ->  CRITICAL\n",
      "\n",
      "PREDICT ->  CRITICAL\n",
      "REAL ->  CRITICAL\n",
      "\n",
      "PREDICT ->  CONSPIRACY\n",
      "REAL ->  CRITICAL\n",
      "\n",
      "PREDICT ->  CONSPIRACY\n",
      "REAL ->  CRITICAL\n",
      "\n",
      "PREDICT ->  CONSPIRACY\n",
      "REAL ->  CRITICAL\n",
      "\n",
      "PREDICT ->  CONSPIRACY\n",
      "REAL ->  CRITICAL\n",
      "\n",
      "PREDICT ->  CONSPIRACY\n",
      "REAL ->  CRITICAL\n",
      "\n",
      "PREDICT ->  CONSPIRACY\n",
      "REAL ->  CRITICAL\n",
      "\n",
      "PREDICT ->  CONSPIRACY\n",
      "REAL ->  CONSPIRACY\n",
      "\n",
      "PREDICT ->  CONSPIRACY\n",
      "REAL ->  CRITICAL\n",
      "\n",
      "PREDICT ->  CONSPIRACY\n",
      "REAL ->  CONSPIRACY\n",
      "\n",
      "PREDICT ->  CONSPIRACY\n",
      "REAL ->  CRITICAL\n",
      "\n",
      "PREDICT ->  CONSPIRACY\n",
      "REAL ->  CONSPIRACY\n",
      "\n",
      "PREDICT ->  CONSPIRACY\n",
      "REAL ->  CONSPIRACY\n",
      "\n",
      "PREDICT ->  CONSPIRACY\n",
      "REAL ->  CONSPIRACY\n",
      "\n",
      "PREDICT ->  CONSPIRACY\n",
      "REAL ->  CONSPIRACY\n",
      "\n",
      "PREDICT ->  CONSPIRACY\n",
      "REAL ->  CRITICAL\n",
      "\n",
      "PREDICT ->  CONSPIRACY\n",
      "REAL ->  CRITICAL\n",
      "\n",
      "PREDICT ->  CONSPIRACY\n",
      "REAL ->  CRITICAL\n",
      "\n",
      "PREDICT ->  CRITICAL\n",
      "REAL ->  CRITICAL\n",
      "\n",
      "PREDICT ->  CONSPIRACY\n",
      "REAL ->  CRITICAL\n",
      "\n",
      "PREDICT ->  CONSPIRACY\n",
      "REAL ->  CONSPIRACY\n",
      "\n",
      "PREDICT ->  CONSPIRACY\n",
      "REAL ->  CRITICAL\n",
      "\n",
      "PREDICT ->  CONSPIRACY\n",
      "REAL ->  CRITICAL\n",
      "\n",
      "PREDICT ->  CONSPIRACY\n",
      "REAL ->  CRITICAL\n",
      "\n",
      "PREDICT ->  CONSPIRACY\n",
      "REAL ->  CONSPIRACY\n",
      "\n",
      "PREDICT ->  CONSPIRACY\n",
      "REAL ->  CONSPIRACY\n",
      "\n",
      "PREDICT ->  CONSPIRACY\n",
      "REAL ->  CONSPIRACY\n",
      "\n",
      "PREDICT ->  CONSPIRACY\n",
      "REAL ->  CRITICAL\n",
      "\n",
      "PREDICT ->  CONSPIRACY\n",
      "REAL ->  CONSPIRACY\n",
      "\n",
      "PREDICT ->  CONSPIRACY\n",
      "REAL ->  CONSPIRACY\n",
      "\n",
      "PREDICT ->  CONSPIRACY\n",
      "REAL ->  CRITICAL\n",
      "\n",
      "PREDICT ->  CONSPIRACY\n",
      "REAL ->  CRITICAL\n",
      "\n",
      "PREDICT ->  CONSPIRACY\n",
      "REAL ->  CONSPIRACY\n",
      "\n",
      "PREDICT ->  CONSPIRACY\n",
      "REAL ->  CRITICAL\n",
      "\n",
      "PREDICT ->  CONSPIRACY\n",
      "REAL ->  CONSPIRACY\n",
      "\n",
      "PREDICT ->  CONSPIRACY\n",
      "REAL ->  CONSPIRACY\n",
      "\n",
      "PREDICT ->  CONSPIRACY\n",
      "REAL ->  CONSPIRACY\n",
      "\n",
      "PREDICT ->  CONSPIRACY\n",
      "REAL ->  CONSPIRACY\n",
      "\n",
      "PREDICT ->  CONSPIRACY\n",
      "REAL ->  CRITICAL\n",
      "\n",
      "PREDICT ->  CONSPIRACY\n",
      "REAL ->  CRITICAL\n",
      "\n",
      "PREDICT ->  CONSPIRACY\n",
      "REAL ->  CONSPIRACY\n",
      "\n",
      "PREDICT ->  CONSPIRACY\n",
      "REAL ->  CONSPIRACY\n",
      "\n",
      "PREDICT ->  CONSPIRACY\n",
      "REAL ->  CONSPIRACY\n",
      "\n",
      "PREDICT ->  CONSPIRACY\n",
      "REAL ->  CRITICAL\n",
      "\n",
      "PREDICT ->  CONSPIRACY\n",
      "REAL ->  CRITICAL\n",
      "\n",
      "MCC: 0.21757131728816845\n",
      "F1 Score: 0.37975626629769565\n",
      "Accuracy: 0.4927536231884058\n",
      "              precision    recall  f1-score   support\n",
      "\n",
      "  CONSPIRACY       0.46      1.00      0.63        30\n",
      "    CRITICAL       1.00      0.10      0.19        39\n",
      "\n",
      "    accuracy                           0.49        69\n",
      "   macro avg       0.73      0.55      0.41        69\n",
      "weighted avg       0.77      0.49      0.38        69\n",
      "\n"
     ]
    }
   ],
   "source": [
    "import numpy as np\n",
    "preds = []\n",
    "y_true = []\n",
    "for instance in augmented_data:\n",
    "    preds.append( instance[\"content\"][0][\"text\"][\"Prediction\"] )\n",
    "    y_true.append( instance[\"content\"][0][\"text\"][\"Original Data\"][\"Original Label\"] )\n",
    "    print(\"PREDICT -> \", instance[\"content\"][0][\"text\"][\"Prediction\"])\n",
    "    print(\"REAL -> \", instance[\"content\"][0][\"text\"][\"Original Data\"][\"Original Label\"])\n",
    "    print()\n",
    "\n",
    "from sklearn.metrics import matthews_corrcoef, f1_score, accuracy_score\n",
    "\n",
    "# Convertir las listas a arrays de numpy para el cálculo de las métricas\n",
    "preds = np.array(preds)\n",
    "y_true = np.array(y_true)\n",
    "\n",
    "# Calcular MCC\n",
    "mcc = matthews_corrcoef(y_true, preds)\n",
    "print(f\"MCC: {mcc}\")\n",
    "\n",
    "# Calcular F1\n",
    "f1 = f1_score(y_true, preds, average='weighted')\n",
    "print(f\"F1 Score: {f1}\")\n",
    "\n",
    "# Calcular precisión\n",
    "accuracy = accuracy_score(y_true, preds)\n",
    "print(f\"Accuracy: {accuracy}\")\n",
    "\n",
    "# classification report\n",
    "from sklearn.metrics import classification_report\n",
    "print(classification_report(y_true, preds))"
   ]
  },
  {
   "cell_type": "code",
   "execution_count": 49,
   "metadata": {},
   "outputs": [
    {
     "name": "stdout",
     "output_type": "stream",
     "text": [
      "Counter({'CRITICAL': 39, 'CONSPIRACY': 30})\n"
     ]
    },
    {
     "data": {
      "text/plain": [
       "Counter({'CONSPIRACY': 65, 'CRITICAL': 4})"
      ]
     },
     "execution_count": 49,
     "metadata": {},
     "output_type": "execute_result"
    }
   ],
   "source": [
    "from collections import Counter\n",
    "print(Counter(y_true))\n",
    "Counter(preds)"
   ]
  },
  {
   "cell_type": "markdown",
   "metadata": {},
   "source": [
    "#### Get confidence of results"
   ]
  },
  {
   "cell_type": "code",
   "execution_count": 78,
   "metadata": {},
   "outputs": [
    {
     "name": "stdout",
     "output_type": "stream",
     "text": [
      "confidence for message 0 using claude-3-haiku-20240307 -> 0.8000000000000002 \n",
      "[0.8 0.9 0.7]\n",
      "\n",
      "confidence for message 1 using claude-3-haiku-20240307 -> 0.7666666666666666 \n",
      "[0.8 0.7 0.8]\n",
      "\n",
      "confidence for message 2 using claude-3-haiku-20240307 -> 0.8333333333333334 \n",
      "[0.8 0.9 0.8]\n",
      "\n",
      "confidence for message 3 using claude-3-haiku-20240307 -> 0.8333333333333334 \n",
      "[0.8 0.9 0.8]\n",
      "\n",
      "confidence for message 4 using claude-3-haiku-20240307 -> 0.8000000000000002 \n",
      "[0.8 0.9 0.7]\n",
      "\n",
      "confidence for message 5 using claude-3-haiku-20240307 -> 0.7666666666666666 \n",
      "[0.8 0.7 0.8]\n",
      "\n",
      "confidence for message 6 using claude-3-haiku-20240307 -> 0.8333333333333334 \n",
      "[0.8 0.9 0.8]\n",
      "\n",
      "confidence for message 7 using claude-3-haiku-20240307 -> 0.8666666666666667 \n",
      "[0.8 0.9 0.9]\n",
      "\n",
      "confidence for message 8 using claude-3-haiku-20240307 -> 0.8666666666666667 \n",
      "[0.8 0.9 0.9]\n",
      "\n",
      "confidence for message 9 using claude-3-haiku-20240307 -> 0.7666666666666666 \n",
      "[0.8 0.7 0.8]\n",
      "\n",
      "confidence for message 10 using claude-3-haiku-20240307 -> 0.8000000000000002 \n",
      "[0.8 0.9 0.7]\n",
      "\n",
      "confidence for message 11 using claude-3-haiku-20240307 -> 0.7000000000000001 \n",
      "[0.8 0.7 0.6]\n",
      "\n",
      "confidence for message 12 using claude-3-haiku-20240307 -> 0.8000000000000002 \n",
      "[0.8 0.9 0.7]\n",
      "\n",
      "confidence for message 13 using claude-3-haiku-20240307 -> 0.7666666666666666 \n",
      "[0.8 0.7 0.8]\n",
      "\n",
      "confidence for message 14 using claude-3-haiku-20240307 -> 0.8000000000000002 \n",
      "[0.9 0.8 0.7]\n",
      "\n",
      "confidence for message 15 using claude-3-haiku-20240307 -> 0.8000000000000002 \n",
      "[0.9 0.8 0.7]\n",
      "\n",
      "confidence for message 16 using claude-3-haiku-20240307 -> 0.8000000000000002 \n",
      "[0.8 0.9 0.7]\n",
      "\n",
      "confidence for message 17 using claude-3-haiku-20240307 -> 0.8000000000000002 \n",
      "[0.8 0.9 0.7]\n",
      "\n",
      "confidence for message 18 using claude-3-haiku-20240307 -> 0.8666666666666667 \n",
      "[0.8 0.9 0.9]\n",
      "\n",
      "confidence for message 19 using claude-3-haiku-20240307 -> 0.8666666666666667 \n",
      "[0.9 0.9 0.8]\n",
      "\n",
      "confidence for message 20 using claude-3-haiku-20240307 -> 0.8333333333333334 \n",
      "[0.8 0.9 0.8]\n",
      "\n",
      "confidence for message 21 using claude-3-haiku-20240307 -> 0.8333333333333334 \n",
      "[0.8 0.9 0.8]\n",
      "\n",
      "confidence for message 22 using claude-3-haiku-20240307 -> 0.8333333333333334 \n",
      "[0.8 0.9 0.8]\n",
      "\n",
      "confidence for message 23 using claude-3-haiku-20240307 -> 0.7666666666666666 \n",
      "[0.8 0.7 0.8]\n",
      "\n",
      "confidence for message 24 using claude-3-haiku-20240307 -> 0.8333333333333334 \n",
      "[0.8 0.9 0.8]\n",
      "\n",
      "confidence for message 25 using claude-3-haiku-20240307 -> 0.8333333333333334 \n",
      "[0.8 0.9 0.8]\n",
      "\n",
      "confidence for message 26 using claude-3-haiku-20240307 -> 0.8333333333333334 \n",
      "[0.8 0.9 0.8]\n",
      "\n",
      "confidence for message 27 using claude-3-haiku-20240307 -> 0.8000000000000002 \n",
      "[0.9 0.8 0.7]\n",
      "\n",
      "confidence for message 28 using claude-3-haiku-20240307 -> 0.8000000000000002 \n",
      "[0.8 0.9 0.7]\n",
      "\n",
      "confidence for message 29 using claude-3-haiku-20240307 -> 0.7999999999999999 \n",
      "[0.8 0.7 0.9]\n",
      "\n",
      "confidence for message 30 using claude-3-haiku-20240307 -> 0.8333333333333334 \n",
      "[0.8 0.9 0.8]\n",
      "\n",
      "confidence for message 31 using claude-3-haiku-20240307 -> 0.8000000000000002 \n",
      "[0.8 0.9 0.7]\n",
      "\n",
      "confidence for message 32 using claude-3-haiku-20240307 -> 0.8333333333333334 \n",
      "[0.8 0.9 0.8]\n",
      "\n",
      "confidence for message 33 using claude-3-haiku-20240307 -> 0.7666666666666666 \n",
      "[0.8 0.7 0.8]\n",
      "\n",
      "confidence for message 34 using claude-3-haiku-20240307 -> 0.8000000000000002 \n",
      "[0.9 0.8 0.7]\n",
      "\n",
      "confidence for message 35 using claude-3-haiku-20240307 -> 0.8000000000000002 \n",
      "[0.8 0.9 0.7]\n",
      "\n",
      "confidence for message 36 using claude-3-haiku-20240307 -> 0.8333333333333334 \n",
      "[0.8 0.9 0.8]\n",
      "\n",
      "confidence for message 37 using claude-3-haiku-20240307 -> 0.8000000000000002 \n",
      "[0.8 0.9 0.7]\n",
      "\n",
      "confidence for message 38 using claude-3-haiku-20240307 -> 0.8000000000000002 \n",
      "[0.8 0.9 0.7]\n",
      "\n",
      "confidence for message 39 using claude-3-haiku-20240307 -> 0.8000000000000002 \n",
      "[0.8 0.9 0.7]\n",
      "\n",
      "confidence for message 40 using claude-3-haiku-20240307 -> 0.8666666666666667 \n",
      "[0.9 0.8 0.9]\n",
      "\n",
      "confidence for message 41 using claude-3-haiku-20240307 -> 0.8333333333333334 \n",
      "[0.8 0.9 0.8]\n",
      "\n",
      "confidence for message 42 using claude-3-haiku-20240307 -> 0.8000000000000002 \n",
      "[0.8 0.9 0.7]\n",
      "\n",
      "confidence for message 43 using claude-3-haiku-20240307 -> 0.7666666666666666 \n",
      "[0.8 0.7 0.8]\n",
      "\n",
      "confidence for message 44 using claude-3-haiku-20240307 -> 0.7999999999999999 \n",
      "[0.8 0.7 0.9]\n",
      "\n",
      "confidence for message 45 using claude-3-haiku-20240307 -> 0.7666666666666666 \n",
      "[0.8 0.7 0.8]\n",
      "\n",
      "confidence for message 46 using claude-3-haiku-20240307 -> 0.8333333333333334 \n",
      "[0.8 0.9 0.8]\n",
      "\n",
      "confidence for message 47 using claude-3-haiku-20240307 -> 0.8333333333333334 \n",
      "[0.8 0.9 0.8]\n",
      "\n",
      "confidence for message 48 using claude-3-haiku-20240307 -> 0.8666666666666667 \n",
      "[0.8 0.9 0.9]\n",
      "\n",
      "confidence for message 49 using claude-3-haiku-20240307 -> 0.8333333333333334 \n",
      "[0.8 0.9 0.8]\n",
      "\n",
      "confidence for message 50 using claude-3-haiku-20240307 -> 0.8000000000000002 \n",
      "[0.8 0.9 0.7]\n",
      "\n",
      "confidence for message 51 using claude-3-haiku-20240307 -> 0.8666666666666667 \n",
      "[0.8 0.9 0.9]\n",
      "\n",
      "confidence for message 52 using claude-3-haiku-20240307 -> 0.7000000000000001 \n",
      "[0.8 0.7 0.6]\n",
      "\n",
      "confidence for message 53 using claude-3-haiku-20240307 -> 0.8000000000000002 \n",
      "[0.9 0.8 0.7]\n",
      "\n",
      "confidence for message 54 using claude-3-haiku-20240307 -> 0.8333333333333334 \n",
      "[0.8 0.9 0.8]\n",
      "\n",
      "confidence for message 55 using claude-3-haiku-20240307 -> 0.8000000000000002 \n",
      "[0.8 0.9 0.7]\n",
      "\n",
      "confidence for message 56 using claude-3-haiku-20240307 -> 0.8000000000000002 \n",
      "[0.8 0.9 0.7]\n",
      "\n",
      "confidence for message 57 using claude-3-haiku-20240307 -> 0.8000000000000002 \n",
      "[0.9 0.8 0.7]\n",
      "\n",
      "confidence for message 58 using claude-3-haiku-20240307 -> 0.8666666666666667 \n",
      "[0.8 0.9 0.9]\n",
      "\n",
      "confidence for message 59 using claude-3-haiku-20240307 -> 0.8000000000000002 \n",
      "[0.8 0.9 0.7]\n",
      "\n",
      "confidence for message 60 using claude-3-haiku-20240307 -> 0.8000000000000002 \n",
      "[0.9 0.8 0.7]\n",
      "\n",
      "confidence for message 61 using claude-3-haiku-20240307 -> 0.8666666666666667 \n",
      "[0.9 0.9 0.8]\n",
      "\n",
      "confidence for message 62 using claude-3-haiku-20240307 -> 0.8000000000000002 \n",
      "[0.8 0.9 0.7]\n",
      "\n",
      "confidence for message 63 using claude-3-haiku-20240307 -> 0.7000000000000001 \n",
      "[0.8 0.7 0.6]\n",
      "\n",
      "confidence for message 64 using claude-3-haiku-20240307 -> 0.8000000000000002 \n",
      "[0.8 0.9 0.7]\n",
      "\n",
      "confidence for message 65 using claude-3-haiku-20240307 -> 0.8000000000000002 \n",
      "[0.8 0.9 0.7]\n",
      "\n"
     ]
    }
   ],
   "source": [
    "import numpy as np\n",
    "results = {}\n",
    "for i, msg in enumerate(augmented_data):\n",
    "    model_used = msg[\"model\"]\n",
    "    content = msg['content'][0]\n",
    "    conf_values = []\n",
    "    # for aug_var in json.loads(content[\"text\"] )[\"Augmented Variations\"]: \n",
    "    for aug_var in content[\"text\"][\"Augmented Variations\"]: \n",
    "\n",
    "        conf = aug_var[\"Confidence\"]\n",
    "        conf_values.append(conf)\n",
    "    conf_values = np.array(conf_values).astype(float)\n",
    "    \n",
    "    print(f\"confidence for message {i} using {model_used} -> {np.mean(conf_values)} \")\n",
    "    print(f\"{conf_values}\\n\")\n",
    "    \n",
    "    results[i] = {\"model_used\": model_used, \"confidence\": conf_values }"
   ]
  },
  {
   "cell_type": "code",
   "execution_count": 136,
   "metadata": {},
   "outputs": [
    {
     "name": "stdout",
     "output_type": "stream",
     "text": [
      "confidence for model claude-3-opus-20240229 -> 0.9066666666666667 \n",
      "confidence for model claude-3-haiku-20240307 -> 0.796969696969697 \n"
     ]
    },
    {
     "data": {
      "image/png": "[encoded data removed]",
      "text/plain": [
       "<Figure size 640x480 with 1 Axes>"
      ]
     },
     "metadata": {},
     "output_type": "display_data"
    }
   ],
   "source": [
    "# loop thorugh results get the mean of the confidence values, group by model_used and print the results\n",
    "from collections import defaultdict\n",
    "results_grouped = defaultdict(list)\n",
    "for key, value in results.items():\n",
    "    results_grouped[value[\"model_used\"]].append(value[\"confidence\"])\n",
    "\n",
    "for model, conf_values in results_grouped.items():\n",
    "    conf_values = np.array(conf_values).flatten()\n",
    "    print(f\"confidence for model {model} -> {np.mean(conf_values)} \")\n",
    "\n",
    "# plot the results for each group of models\n",
    "# barplot with Xaxis the model used and Y the mean of the confidence values with error bars\n",
    "import matplotlib.pyplot as plt\n",
    "fig, ax = plt.subplots()\n",
    "for model, conf_values in results_grouped.items():\n",
    "    conf_values = np.array(conf_values).flatten()\n",
    "    ax.bar(model, np.mean(conf_values), yerr=np.std(conf_values), label=model)\n",
    "\n",
    "# title\n",
    "plt.title('Confidence values for the augmented data')\n",
    "# x-axis label\n",
    "plt.xlabel('Model used')\n",
    "# y-axis label\n",
    "plt.ylabel('Mean Confidence values')\n",
    "plt.legend()\n",
    "plt.show()\n",
    "\n",
    "\n",
    "\n",
    "\n"
   ]
  }
 ],
 "metadata": {
  "kernelspec": {
   "display_name": "Python 3 (ipykernel)",
   "language": "python",
   "name": "python3"
  },
  "language_info": {
   "codemirror_mode": {
    "name": "ipython",
    "version": 3
   },
   "file_extension": ".py",
   "mimetype": "text/x-python",
   "name": "python",
   "nbconvert_exporter": "python",
   "pygments_lexer": "ipython3",
   "version": "3.10.12"
  }
 },
 "nbformat": 4,
 "nbformat_minor": 2
}
